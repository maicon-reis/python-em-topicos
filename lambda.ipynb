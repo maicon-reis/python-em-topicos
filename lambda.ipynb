{
  "nbformat": 4,
  "nbformat_minor": 0,
  "metadata": {
    "colab": {
      "name": "lambda.ipynb",
      "provenance": [],
      "authorship_tag": "ABX9TyNkgT0pZ1EEoBayQXb9ddpe",
      "include_colab_link": true
    },
    "kernelspec": {
      "name": "python3",
      "display_name": "Python 3"
    }
  },
  "cells": [
    {
      "cell_type": "markdown",
      "metadata": {
        "id": "view-in-github",
        "colab_type": "text"
      },
      "source": [
        "<a href=\"https://colab.research.google.com/github/maicon-reis/python-em-topicos/blob/main/lambda.ipynb\" target=\"_parent\"><img src=\"https://colab.research.google.com/assets/colab-badge.svg\" alt=\"Open In Colab\"/></a>"
      ]
    },
    {
      "cell_type": "markdown",
      "metadata": {
        "id": "yDCCjJ85o0ow"
      },
      "source": [
        "#**Expressões Lambda (Funções Anônimas)**\n",
        "\n",
        "Também conhecidas como funções anônimas, as expressões *lambdas* são utilizadas para criar funções no python, assim como as funções *def*. As expressões *lambda* simplificam o código e trazem clareza em pontos bem específicos.\n",
        "\n",
        "As expressões *lambda* são chamadas no momento em que define a função, portanto trazem mais clareza ao código.\n",
        "\n",
        "Quando se deseja utilizar funções nomeada, bem como quando for ser utilizada muita lógica no código, ou até mesmo quando a função será utilizada em várias partes do código deve-se dar preferêcia ao *def*.\n",
        "\n",
        "A expressão *lambda* é melhor utilizada quando trata-se de uma função simples e utilizada pontualmente no código.\n",
        "\n",
        "Cabe por fim pontuar que tanto *def* quando *lambda* apresentam tipo *function*.\n",
        "\n",
        "Materiais utilizados para produção deste material:\n",
        "\n",
        "*   [Python - O que é lambda? O que são funções anônimas? Quando usar?](https://www.youtube.com/watch?v=zH_0jUmgpyc)\n",
        "*   [Lambda Expressions & Anonymous Functions || Python Tutorial || Learn Python Programming](https://www.youtube.com/watch?v=25ovCm9jKfA)\n",
        "\n",
        "\n",
        "\n",
        "\n",
        "\n",
        "\n",
        "\n",
        "\n",
        "\n"
      ]
    },
    {
      "cell_type": "code",
      "metadata": {
        "id": "MwZfVP8_oMOk"
      },
      "source": [
        "# trabalhando com def para elevar um número ao quadrado\n",
        "def quadrado(x):\n",
        "  return x**2\n",
        "\n",
        "quadrado(5)"
      ],
      "execution_count": null,
      "outputs": []
    },
    {
      "cell_type": "code",
      "metadata": {
        "id": "0GrD5jVipv1i",
        "outputId": "bd7a8dc8-fdcd-41aa-99aa-8b2ac1fa9398",
        "colab": {
          "base_uri": "https://localhost:8080/",
          "height": 34
        }
      },
      "source": [
        "# trabalhando com lambda para elevar um número ao quadrado\n",
        "(lambda x: x**2)(5)"
      ],
      "execution_count": 4,
      "outputs": [
        {
          "output_type": "execute_result",
          "data": {
            "text/plain": [
              "25"
            ]
          },
          "metadata": {
            "tags": []
          },
          "execution_count": 4
        }
      ]
    },
    {
      "cell_type": "code",
      "metadata": {
        "id": "vAXfxf-LqPHy",
        "outputId": "04d4a70b-0503-441d-c3e2-c3f06fd396b7",
        "colab": {
          "base_uri": "https://localhost:8080/",
          "height": 51
        }
      },
      "source": [
        "# comparação entre os tipos das funções def e lambda\n",
        "\n",
        "'''def'''\n",
        "def quadrado(x):\n",
        "  return x**2\n",
        "\n",
        "'''lambda'''\n",
        "funcao = lambda x: x**2\n",
        "\n",
        "print(type(quadrado))\n",
        "print(type(funcao))"
      ],
      "execution_count": null,
      "outputs": [
        {
          "output_type": "stream",
          "text": [
            "<class 'function'>\n",
            "<class 'function'>\n"
          ],
          "name": "stdout"
        }
      ]
    },
    {
      "cell_type": "markdown",
      "metadata": {
        "id": "2BzxJI9jB6jc"
      },
      "source": [
        "**Composição da Expressões *lambda*** \n",
        "\n",
        "As expressões *lambda* são compostas pela palavra *lambda*, seguida dos argumentos (pode-se ter *lambda* sem argumentos, como pode ser visto à diante). Em seguida tem-se o sinal de dois-pontos e por fim a expressão.\n",
        "\n",
        "```\n",
        "Composição da Expressão Lambda\n",
        "lambda x: x**2\n",
        "```\n",
        "| lambda |  ARGUMENTOS  | : |  EXPRESSÃO  |\n",
        "|--------|--------------|---|-------------|\n",
        "| lambda |       x      | : |    x**2     |\n"
      ]
    },
    {
      "cell_type": "markdown",
      "metadata": {
        "id": "fSwINM4C9j_X"
      },
      "source": [
        "Assim como as funções *def*, as expressões *lambda* podem, desde não ter argumentos, como ter *n* argumentos.\n",
        "```\n",
        "lambda : \"Qual é meu objetivo?\"\n",
        " \n",
        "lambda x: x**2\n",
        " \n",
        "lamda x, y: 2*x + y\n",
        " \n",
        "lambda a, b, c: b**2 - 4*a*c\n",
        ".\n",
        ".\n",
        ".\n",
        "lambda x1, x2, x3, ..., xn: <expressão>\n",
        "\n",
        "```\n"
      ]
    },
    {
      "cell_type": "code",
      "metadata": {
        "id": "CrADcKs4ql1E"
      },
      "source": [
        "# lambda com mais de um argumento\n",
        "(lambda a,b: a + b)(1, 41)\n"
      ],
      "execution_count": null,
      "outputs": []
    },
    {
      "cell_type": "markdown",
      "metadata": {
        "id": "wvnGtf36EB_H"
      },
      "source": [
        "**Utilizando *lambda* com listas**"
      ]
    },
    {
      "cell_type": "code",
      "metadata": {
        "id": "ne1A0BD3EEAg"
      },
      "source": [
        "lista = [\n",
        "         'cod_01',\n",
        "         'cod_02',\n",
        "         'cod_10',\n",
        "         'cod_20',\n",
        "         'cod_19']\n",
        "\n",
        "#utilizando função key\n",
        "sorted(lista, key=lambda x: int(x[4:]))\n"
      ],
      "execution_count": null,
      "outputs": []
    },
    {
      "cell_type": "markdown",
      "metadata": {
        "id": "h9N7LbCOO-o-"
      },
      "source": [
        "**Exemplificação da utilização da expressões *lamda* com iteráveis**"
      ]
    },
    {
      "cell_type": "code",
      "metadata": {
        "id": "SChD71NYFygV",
        "outputId": "a39b3ded-759b-48bb-d8b1-8665d8c7cd60",
        "colab": {
          "base_uri": "https://localhost:8080/",
          "height": 34
        }
      },
      "source": [
        "# Utilizando iteráveis - função map\n",
        "alunos = [\"carlos\", \"érica\", \"alice\", \"paulo\"]\n",
        "nomes_upper = lambda x: x.upper()\n",
        "\n",
        "list(map(nomes_upper, alunos))"
      ],
      "execution_count": null,
      "outputs": [
        {
          "output_type": "execute_result",
          "data": {
            "text/plain": [
              "['CARLOS', 'ÉRICA', 'ALICE', 'PAULO']"
            ]
          },
          "metadata": {
            "tags": []
          },
          "execution_count": 18
        }
      ]
    },
    {
      "cell_type": "markdown",
      "metadata": {
        "id": "OAh1dIAgHjWT"
      },
      "source": [
        "Veja que o resultado do código anterior pode ser obtido, também utilizando somente a função *map* bem como utilizando uma *list comprehension*, como pode-se visualizar nos trechos de código abaixo, pois, existem várias formas de chegar ao mesmo resultado em Python. Cabe ao desenvolvedor utilizar a opção que deixa seu código mais limpo e inteligível."
      ]
    },
    {
      "cell_type": "code",
      "metadata": {
        "id": "B5nv4s4LPEnA",
        "outputId": "0728844d-1d3e-41f5-eda2-9b0e687b3c1d",
        "colab": {
          "base_uri": "https://localhost:8080/",
          "height": 34
        }
      },
      "source": [
        "alunos = [\"carlos\", \"érica\", \"alice\", \"paulo\"]\n",
        "list(map(str.upper, alunos))"
      ],
      "execution_count": null,
      "outputs": [
        {
          "output_type": "execute_result",
          "data": {
            "text/plain": [
              "['CARLOS', 'ÉRICA', 'ALICE', 'PAULO']"
            ]
          },
          "metadata": {
            "tags": []
          },
          "execution_count": 23
        }
      ]
    },
    {
      "cell_type": "code",
      "metadata": {
        "id": "Y_8aci2BPWYN",
        "outputId": "7183e434-9a24-424a-fcbc-d44aa49b6cf2",
        "colab": {
          "base_uri": "https://localhost:8080/",
          "height": 34
        }
      },
      "source": [
        "# List Comprehension\n",
        "alunos = [\"carlos\", \"érica\", \"alice\", \"paulo\"]\n",
        "[x.upper() for x in alunos]"
      ],
      "execution_count": null,
      "outputs": [
        {
          "output_type": "execute_result",
          "data": {
            "text/plain": [
              "['CARLOS', 'ÉRICA', 'ALICE', 'PAULO']"
            ]
          },
          "metadata": {
            "tags": []
          },
          "execution_count": 25
        }
      ]
    },
    {
      "cell_type": "code",
      "metadata": {
        "id": "54z3r2JtPwFu",
        "outputId": "c667988c-e5fe-495d-e3e1-4b833b2b0b46",
        "colab": {
          "base_uri": "https://localhost:8080/",
          "height": 34
        }
      },
      "source": [
        "# Utilizando iteráveis - função filter\n",
        "alunos = [\"carlos\", \"érica\", \"alice\", \"paulo\"]\n",
        "alunos_com_o = lambda x: \"o\" in x\n",
        "\n",
        "list(filter(alunos_com_o, alunos))"
      ],
      "execution_count": null,
      "outputs": [
        {
          "output_type": "execute_result",
          "data": {
            "text/plain": [
              "['carlos', 'paulo']"
            ]
          },
          "metadata": {
            "tags": []
          },
          "execution_count": 30
        }
      ]
    },
    {
      "cell_type": "code",
      "metadata": {
        "id": "GIMIrHJknfZY",
        "outputId": "8679608f-6b77-4aab-d22b-8d8a058067e1",
        "colab": {
          "base_uri": "https://localhost:8080/",
          "height": 153
        }
      },
      "source": [
        "autores_brasileiros = [\"Machado de Assis\", \"Paulo Coelho\", \"Leandro Karnal\", \"Olavo Bilac\", \"Eça de Queiroz\", \"Monteiro Lobato\",\n",
        "                       \"José de Alencar\", \"Gerônimo Tehml\"]\n",
        "\n",
        "autores_brasileiros.sort(key=lambda name: name.split(\" \")[-1].lower())\n",
        "autores_brasileiros"
      ],
      "execution_count": null,
      "outputs": [
        {
          "output_type": "execute_result",
          "data": {
            "text/plain": [
              "['José de Alencar',\n",
              " 'Machado de Assis',\n",
              " 'Olavo Bilac',\n",
              " 'Paulo Coelho',\n",
              " 'Leandro Karnal',\n",
              " 'Monteiro Lobato',\n",
              " 'Eça de Queiroz',\n",
              " 'Gerônimo Tehml']"
            ]
          },
          "metadata": {
            "tags": []
          },
          "execution_count": 5
        }
      ]
    }
  ]
}