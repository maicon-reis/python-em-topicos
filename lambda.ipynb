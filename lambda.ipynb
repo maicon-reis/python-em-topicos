{
  "nbformat": 4,
  "nbformat_minor": 0,
  "metadata": {
    "colab": {
      "name": "lambda.ipynb",
      "provenance": [],
      "authorship_tag": "ABX9TyM8Xty71FyHPhyYzZxfqQzX",
      "include_colab_link": true
    },
    "kernelspec": {
      "name": "python3",
      "display_name": "Python 3"
    }
  },
  "cells": [
    {
      "cell_type": "markdown",
      "metadata": {
        "id": "view-in-github",
        "colab_type": "text"
      },
      "source": [
        "<a href=\"https://colab.research.google.com/github/maicon-reis/python-em-topicos/blob/main/lambda.ipynb\" target=\"_parent\"><img src=\"https://colab.research.google.com/assets/colab-badge.svg\" alt=\"Open In Colab\"/></a>"
      ]
    },
    {
      "cell_type": "markdown",
      "metadata": {
        "id": "yDCCjJ85o0ow"
      },
      "source": [
        "#**Expressões Lambda (Funções Anônimas)**\n",
        "\n",
        "Também conhecidas como funções anônimas, as expressões *lambdas* são utilizadas para criar funções no python, assim como as funções *def*. As expressões *lambda* simplificam o código e trazem clareza em pontos bem específicos.\n",
        "\n",
        "As expressões *lambda* são chamadas no momento em que define a função, portanto trazem mais clareza ao código.\n",
        "\n",
        "Quando se deseja utilizar funções nomeada, bem como quando for ser utilizada muita lógica no código, ou até mesmo quando a função será utilizada em várias partes do código deve-se dar preferêcia ao *def*.\n",
        "\n",
        "A expressão *lambda* é melhor utilizada quando trata-se de uma função simples e utilizada pontualmente no código.\n",
        "\n",
        "Cabe por fim pontuar que tanto *def* quando *lambda* apresentam tipo *function*.\n",
        "\n",
        "Materiais utilizados para produção deste material:\n",
        "\n",
        "*   [Python - O que é lambda? O que são funções anônimas? Quando usar?](https://www.youtube.com/watch?v=zH_0jUmgpyc)\n",
        "*   [Lambda Expressions & Anonymous Functions || Python Tutorial || Learn Python Programming](https://www.youtube.com/watch?v=25ovCm9jKfA)\n",
        "\n",
        "\n",
        "\n",
        "\n",
        "\n",
        "\n",
        "\n",
        "\n",
        "\n"
      ]
    },
    {
      "cell_type": "code",
      "metadata": {
        "id": "MwZfVP8_oMOk"
      },
      "source": [
        "# trabalhando com def para elevar um número ao quadrado\n",
        "def quadrado(x):\n",
        "  return x**2\n",
        "\n",
        "quadrado(5)"
      ],
      "execution_count": null,
      "outputs": []
    },
    {
      "cell_type": "code",
      "metadata": {
        "id": "0GrD5jVipv1i",
        "outputId": "bd7a8dc8-fdcd-41aa-99aa-8b2ac1fa9398",
        "colab": {
          "base_uri": "https://localhost:8080/",
          "height": 34
        }
      },
      "source": [
        "# trabalhando com lambda para elevar um número ao quadrado\n",
        "(lambda x: x**2)(5)"
      ],
      "execution_count": null,
      "outputs": [
        {
          "output_type": "execute_result",
          "data": {
            "text/plain": [
              "25"
            ]
          },
          "metadata": {
            "tags": []
          },
          "execution_count": 4
        }
      ]
    },
    {
      "cell_type": "code",
      "metadata": {
        "id": "vAXfxf-LqPHy",
        "outputId": "04d4a70b-0503-441d-c3e2-c3f06fd396b7",
        "colab": {
          "base_uri": "https://localhost:8080/",
          "height": 51
        }
      },
      "source": [
        "# comparação entre os tipos das funções def e lambda\n",
        "\n",
        "'''def'''\n",
        "def quadrado(x):\n",
        "  return x**2\n",
        "\n",
        "'''lambda'''\n",
        "funcao = lambda x: x**2\n",
        "\n",
        "print(type(quadrado))\n",
        "print(type(funcao))"
      ],
      "execution_count": null,
      "outputs": [
        {
          "output_type": "stream",
          "text": [
            "<class 'function'>\n",
            "<class 'function'>\n"
          ],
          "name": "stdout"
        }
      ]
    },
    {
      "cell_type": "markdown",
      "metadata": {
        "id": "2BzxJI9jB6jc"
      },
      "source": [
        "**Composição da Expressões *lambda*** \n",
        "\n",
        "As expressões *lambda* são compostas pela palavra *lambda*, seguida dos argumentos (pode-se ter *lambda* sem argumentos, como pode ser visto à diante). Em seguida tem-se o sinal de dois-pontos e por fim a expressão.\n",
        "\n",
        "```\n",
        "Composição da Expressão Lambda\n",
        "lambda x: x**2\n",
        "```\n",
        "| lambda |  ARGUMENTOS  | : |  EXPRESSÃO  |\n",
        "|--------|--------------|---|-------------|\n",
        "| lambda |       x      | : |    x**2     |\n"
      ]
    },
    {
      "cell_type": "markdown",
      "metadata": {
        "id": "fSwINM4C9j_X"
      },
      "source": [
        "Assim como as funções *def*, as expressões *lambda* podem, desde não ter argumentos, como ter *n* argumentos.\n",
        "```\n",
        "lambda : \"Qual é meu objetivo?\"\n",
        " \n",
        "lambda x: x**2\n",
        " \n",
        "lamda x, y: 2*x + y\n",
        " \n",
        "lambda a, b, c: b**2 - 4*a*c\n",
        ".\n",
        ".\n",
        ".\n",
        "lambda x1, x2, x3, ..., xn: <expressão>\n",
        "\n",
        "```\n"
      ]
    },
    {
      "cell_type": "code",
      "metadata": {
        "id": "CrADcKs4ql1E"
      },
      "source": [
        "# lambda com mais de um argumento\n",
        "(lambda a,b: a + b)(1, 41)\n"
      ],
      "execution_count": null,
      "outputs": []
    },
    {
      "cell_type": "markdown",
      "metadata": {
        "id": "wvnGtf36EB_H"
      },
      "source": [
        "**Utilizando *lambda* com listas**"
      ]
    },
    {
      "cell_type": "code",
      "metadata": {
        "id": "ne1A0BD3EEAg"
      },
      "source": [
        "lista = [\n",
        "         'cod_01',\n",
        "         'cod_02',\n",
        "         'cod_10',\n",
        "         'cod_20',\n",
        "         'cod_19']\n",
        "\n",
        "#utilizando função key\n",
        "sorted(lista, key=lambda x: int(x[4:]))\n"
      ],
      "execution_count": null,
      "outputs": []
    },
    {
      "cell_type": "markdown",
      "metadata": {
        "id": "h9N7LbCOO-o-"
      },
      "source": [
        "**Exemplificação da utilização da expressões *lamda* com iteráveis**"
      ]
    },
    {
      "cell_type": "code",
      "metadata": {
        "id": "SChD71NYFygV",
        "outputId": "a39b3ded-759b-48bb-d8b1-8665d8c7cd60",
        "colab": {
          "base_uri": "https://localhost:8080/",
          "height": 34
        }
      },
      "source": [
        "# Utilizando iteráveis - função map\n",
        "alunos = [\"carlos\", \"érica\", \"alice\", \"paulo\"]\n",
        "nomes_upper = lambda x: x.upper()\n",
        "\n",
        "list(map(nomes_upper, alunos))"
      ],
      "execution_count": null,
      "outputs": [
        {
          "output_type": "execute_result",
          "data": {
            "text/plain": [
              "['CARLOS', 'ÉRICA', 'ALICE', 'PAULO']"
            ]
          },
          "metadata": {
            "tags": []
          },
          "execution_count": 18
        }
      ]
    },
    {
      "cell_type": "markdown",
      "metadata": {
        "id": "OAh1dIAgHjWT"
      },
      "source": [
        "Veja que o resultado do código anterior pode ser obtido, também utilizando somente a função *map* bem como utilizando uma *list comprehension*, como pode-se visualizar nos trechos de código abaixo, pois, existem várias formas de chegar ao mesmo resultado em Python. Cabe ao desenvolvedor utilizar a opção que deixa seu código mais limpo e inteligível."
      ]
    },
    {
      "cell_type": "code",
      "metadata": {
        "id": "B5nv4s4LPEnA",
        "outputId": "0728844d-1d3e-41f5-eda2-9b0e687b3c1d",
        "colab": {
          "base_uri": "https://localhost:8080/",
          "height": 34
        }
      },
      "source": [
        "alunos = [\"carlos\", \"érica\", \"alice\", \"paulo\"]\n",
        "list(map(str.upper, alunos))"
      ],
      "execution_count": null,
      "outputs": [
        {
          "output_type": "execute_result",
          "data": {
            "text/plain": [
              "['CARLOS', 'ÉRICA', 'ALICE', 'PAULO']"
            ]
          },
          "metadata": {
            "tags": []
          },
          "execution_count": 23
        }
      ]
    },
    {
      "cell_type": "code",
      "metadata": {
        "id": "Y_8aci2BPWYN",
        "outputId": "7183e434-9a24-424a-fcbc-d44aa49b6cf2",
        "colab": {
          "base_uri": "https://localhost:8080/",
          "height": 34
        }
      },
      "source": [
        "# List Comprehension\n",
        "alunos = [\"carlos\", \"érica\", \"alice\", \"paulo\"]\n",
        "[x.upper() for x in alunos]"
      ],
      "execution_count": null,
      "outputs": [
        {
          "output_type": "execute_result",
          "data": {
            "text/plain": [
              "['CARLOS', 'ÉRICA', 'ALICE', 'PAULO']"
            ]
          },
          "metadata": {
            "tags": []
          },
          "execution_count": 25
        }
      ]
    },
    {
      "cell_type": "code",
      "metadata": {
        "id": "54z3r2JtPwFu",
        "outputId": "c667988c-e5fe-495d-e3e1-4b833b2b0b46",
        "colab": {
          "base_uri": "https://localhost:8080/",
          "height": 34
        }
      },
      "source": [
        "# Utilizando iteráveis - função filter\n",
        "alunos = [\"carlos\", \"érica\", \"alice\", \"paulo\"]\n",
        "alunos_com_o = lambda x: \"o\" in x\n",
        "\n",
        "list(filter(alunos_com_o, alunos))"
      ],
      "execution_count": null,
      "outputs": [
        {
          "output_type": "execute_result",
          "data": {
            "text/plain": [
              "['carlos', 'paulo']"
            ]
          },
          "metadata": {
            "tags": []
          },
          "execution_count": 30
        }
      ]
    },
    {
      "cell_type": "code",
      "metadata": {
        "id": "GIMIrHJknfZY",
        "outputId": "8679608f-6b77-4aab-d22b-8d8a058067e1",
        "colab": {
          "base_uri": "https://localhost:8080/",
          "height": 153
        }
      },
      "source": [
        "autores_brasileiros = [\"Machado de Assis\", \"Paulo Coelho\", \"Leandro Karnal\", \"Olavo Bilac\", \"Eça de Queiroz\", \"Monteiro Lobato\",\n",
        "                       \"José de Alencar\", \"Gerônimo Tehml\"]\n",
        "\n",
        "autores_brasileiros.sort(key=lambda name: name.split(\" \")[-1].lower())\n",
        "autores_brasileiros"
      ],
      "execution_count": null,
      "outputs": [
        {
          "output_type": "execute_result",
          "data": {
            "text/plain": [
              "['José de Alencar',\n",
              " 'Machado de Assis',\n",
              " 'Olavo Bilac',\n",
              " 'Paulo Coelho',\n",
              " 'Leandro Karnal',\n",
              " 'Monteiro Lobato',\n",
              " 'Eça de Queiroz',\n",
              " 'Gerônimo Tehml']"
            ]
          },
          "metadata": {
            "tags": []
          },
          "execution_count": 5
        }
      ]
    },
    {
      "cell_type": "markdown",
      "metadata": {
        "id": "XJ0R0rF7M7KE"
      },
      "source": [
        "##**Expressões *Lambda* na Análise de Dados**\n",
        "\n",
        "*  Na Análise de Dados as Expressões Lambda um papel muito importante, pois inserem comandos built-in do Python de forma compacta e funcional.\n"
      ]
    },
    {
      "cell_type": "code",
      "metadata": {
        "id": "lAHs9YPqOdJr",
        "outputId": "b8f1e6a0-f237-4174-f710-4107ecdf7e11",
        "colab": {
          "base_uri": "https://localhost:8080/",
          "height": 71
        }
      },
      "source": [
        "# importando a biblioteca pandas\n",
        "import pandas as pd\n",
        "\n",
        "# para não limitar a visualização do número de colinas\n",
        "pd.set_option('display.max_columns', None )\n",
        "\n",
        "# carregando os dados\n",
        "df = pd.read_csv(\"http://data.insideairbnb.com/brazil/rj/rio-de-janeiro/2020-06-19/data/listings.csv.gz\")"
      ],
      "execution_count": 1,
      "outputs": [
        {
          "output_type": "stream",
          "text": [
            "/usr/local/lib/python3.6/dist-packages/IPython/core/interactiveshell.py:2718: DtypeWarning: Columns (61,62,94) have mixed types.Specify dtype option on import or set low_memory=False.\n",
            "  interactivity=interactivity, compiler=compiler, result=result)\n"
          ],
          "name": "stderr"
        }
      ]
    },
    {
      "cell_type": "code",
      "metadata": {
        "id": "myHzru2IOtMI",
        "outputId": "d2974ad9-da11-4cb0-bcf5-86ba7e5ba48d",
        "colab": {
          "base_uri": "https://localhost:8080/",
          "height": 581
        }
      },
      "source": [
        "df.head()"
      ],
      "execution_count": 2,
      "outputs": [
        {
          "output_type": "execute_result",
          "data": {
            "text/html": [
              "<div>\n",
              "<style scoped>\n",
              "    .dataframe tbody tr th:only-of-type {\n",
              "        vertical-align: middle;\n",
              "    }\n",
              "\n",
              "    .dataframe tbody tr th {\n",
              "        vertical-align: top;\n",
              "    }\n",
              "\n",
              "    .dataframe thead th {\n",
              "        text-align: right;\n",
              "    }\n",
              "</style>\n",
              "<table border=\"1\" class=\"dataframe\">\n",
              "  <thead>\n",
              "    <tr style=\"text-align: right;\">\n",
              "      <th></th>\n",
              "      <th>id</th>\n",
              "      <th>listing_url</th>\n",
              "      <th>scrape_id</th>\n",
              "      <th>last_scraped</th>\n",
              "      <th>name</th>\n",
              "      <th>summary</th>\n",
              "      <th>space</th>\n",
              "      <th>description</th>\n",
              "      <th>experiences_offered</th>\n",
              "      <th>neighborhood_overview</th>\n",
              "      <th>notes</th>\n",
              "      <th>transit</th>\n",
              "      <th>access</th>\n",
              "      <th>interaction</th>\n",
              "      <th>house_rules</th>\n",
              "      <th>thumbnail_url</th>\n",
              "      <th>medium_url</th>\n",
              "      <th>picture_url</th>\n",
              "      <th>xl_picture_url</th>\n",
              "      <th>host_id</th>\n",
              "      <th>host_url</th>\n",
              "      <th>host_name</th>\n",
              "      <th>host_since</th>\n",
              "      <th>host_location</th>\n",
              "      <th>host_about</th>\n",
              "      <th>host_response_time</th>\n",
              "      <th>host_response_rate</th>\n",
              "      <th>host_acceptance_rate</th>\n",
              "      <th>host_is_superhost</th>\n",
              "      <th>host_thumbnail_url</th>\n",
              "      <th>host_picture_url</th>\n",
              "      <th>host_neighbourhood</th>\n",
              "      <th>host_listings_count</th>\n",
              "      <th>host_total_listings_count</th>\n",
              "      <th>host_verifications</th>\n",
              "      <th>host_has_profile_pic</th>\n",
              "      <th>host_identity_verified</th>\n",
              "      <th>street</th>\n",
              "      <th>neighbourhood</th>\n",
              "      <th>neighbourhood_cleansed</th>\n",
              "      <th>neighbourhood_group_cleansed</th>\n",
              "      <th>city</th>\n",
              "      <th>state</th>\n",
              "      <th>zipcode</th>\n",
              "      <th>market</th>\n",
              "      <th>smart_location</th>\n",
              "      <th>country_code</th>\n",
              "      <th>country</th>\n",
              "      <th>latitude</th>\n",
              "      <th>longitude</th>\n",
              "      <th>is_location_exact</th>\n",
              "      <th>property_type</th>\n",
              "      <th>room_type</th>\n",
              "      <th>accommodates</th>\n",
              "      <th>bathrooms</th>\n",
              "      <th>bedrooms</th>\n",
              "      <th>beds</th>\n",
              "      <th>bed_type</th>\n",
              "      <th>amenities</th>\n",
              "      <th>square_feet</th>\n",
              "      <th>price</th>\n",
              "      <th>weekly_price</th>\n",
              "      <th>monthly_price</th>\n",
              "      <th>security_deposit</th>\n",
              "      <th>cleaning_fee</th>\n",
              "      <th>guests_included</th>\n",
              "      <th>extra_people</th>\n",
              "      <th>minimum_nights</th>\n",
              "      <th>maximum_nights</th>\n",
              "      <th>minimum_minimum_nights</th>\n",
              "      <th>maximum_minimum_nights</th>\n",
              "      <th>minimum_maximum_nights</th>\n",
              "      <th>maximum_maximum_nights</th>\n",
              "      <th>minimum_nights_avg_ntm</th>\n",
              "      <th>maximum_nights_avg_ntm</th>\n",
              "      <th>calendar_updated</th>\n",
              "      <th>has_availability</th>\n",
              "      <th>availability_30</th>\n",
              "      <th>availability_60</th>\n",
              "      <th>availability_90</th>\n",
              "      <th>availability_365</th>\n",
              "      <th>calendar_last_scraped</th>\n",
              "      <th>number_of_reviews</th>\n",
              "      <th>number_of_reviews_ltm</th>\n",
              "      <th>first_review</th>\n",
              "      <th>last_review</th>\n",
              "      <th>review_scores_rating</th>\n",
              "      <th>review_scores_accuracy</th>\n",
              "      <th>review_scores_cleanliness</th>\n",
              "      <th>review_scores_checkin</th>\n",
              "      <th>review_scores_communication</th>\n",
              "      <th>review_scores_location</th>\n",
              "      <th>review_scores_value</th>\n",
              "      <th>requires_license</th>\n",
              "      <th>license</th>\n",
              "      <th>jurisdiction_names</th>\n",
              "      <th>instant_bookable</th>\n",
              "      <th>is_business_travel_ready</th>\n",
              "      <th>cancellation_policy</th>\n",
              "      <th>require_guest_profile_picture</th>\n",
              "      <th>require_guest_phone_verification</th>\n",
              "      <th>calculated_host_listings_count</th>\n",
              "      <th>calculated_host_listings_count_entire_homes</th>\n",
              "      <th>calculated_host_listings_count_private_rooms</th>\n",
              "      <th>calculated_host_listings_count_shared_rooms</th>\n",
              "      <th>reviews_per_month</th>\n",
              "    </tr>\n",
              "  </thead>\n",
              "  <tbody>\n",
              "    <tr>\n",
              "      <th>0</th>\n",
              "      <td>17878</td>\n",
              "      <td>https://www.airbnb.com/rooms/17878</td>\n",
              "      <td>20200619025839</td>\n",
              "      <td>2020-06-19</td>\n",
              "      <td>Very Nice 2Br in Copacabana w. balcony, fast WiFi</td>\n",
              "      <td>Discounts for long term stays. Please contact ...</td>\n",
              "      <td>- Beautiful, sunny 2 bedroom (90 square meters...</td>\n",
              "      <td>Discounts for long term stays. Please contact ...</td>\n",
              "      <td>none</td>\n",
              "      <td>This is the one of the bests spots in Rio. Bec...</td>\n",
              "      <td>NaN</td>\n",
              "      <td>Excellent location. Close to all major attract...</td>\n",
              "      <td>The entire apartment is yours. It's like your ...</td>\n",
              "      <td>I will be available throughout your stay shoul...</td>\n",
              "      <td>Please leave the apartment in a clean fashion ...</td>\n",
              "      <td>NaN</td>\n",
              "      <td>NaN</td>\n",
              "      <td>https://a0.muscache.com/im/pictures/65320518/3...</td>\n",
              "      <td>NaN</td>\n",
              "      <td>68997</td>\n",
              "      <td>https://www.airbnb.com/users/show/68997</td>\n",
              "      <td>Matthias</td>\n",
              "      <td>2010-01-08</td>\n",
              "      <td>Rio de Janeiro, State of Rio de Janeiro, Brazil</td>\n",
              "      <td>I  am a  journalist/writer. Lived for 15 years...</td>\n",
              "      <td>within an hour</td>\n",
              "      <td>100%</td>\n",
              "      <td>100%</td>\n",
              "      <td>t</td>\n",
              "      <td>https://a0.muscache.com/im/pictures/user/67b13...</td>\n",
              "      <td>https://a0.muscache.com/im/pictures/user/67b13...</td>\n",
              "      <td>Copacabana</td>\n",
              "      <td>2.0</td>\n",
              "      <td>2.0</td>\n",
              "      <td>['email', 'phone', 'reviews', 'jumio', 'offlin...</td>\n",
              "      <td>t</td>\n",
              "      <td>t</td>\n",
              "      <td>Rio de Janeiro, Rio de Janeiro, Brazil</td>\n",
              "      <td>Copacabana</td>\n",
              "      <td>Copacabana</td>\n",
              "      <td>NaN</td>\n",
              "      <td>Rio de Janeiro</td>\n",
              "      <td>Rio de Janeiro</td>\n",
              "      <td>22020-050</td>\n",
              "      <td>Rio De Janeiro</td>\n",
              "      <td>Rio de Janeiro, Brazil</td>\n",
              "      <td>BR</td>\n",
              "      <td>Brazil</td>\n",
              "      <td>-22.96592</td>\n",
              "      <td>-43.17896</td>\n",
              "      <td>t</td>\n",
              "      <td>Condominium</td>\n",
              "      <td>Entire home/apt</td>\n",
              "      <td>5</td>\n",
              "      <td>1.0</td>\n",
              "      <td>2.0</td>\n",
              "      <td>2.0</td>\n",
              "      <td>Real Bed</td>\n",
              "      <td>{TV,\"Cable TV\",Internet,Wifi,\"Air conditioning...</td>\n",
              "      <td>NaN</td>\n",
              "      <td>$191.00</td>\n",
              "      <td>NaN</td>\n",
              "      <td>NaN</td>\n",
              "      <td>$0.00</td>\n",
              "      <td>$250.00</td>\n",
              "      <td>2</td>\n",
              "      <td>$0.00</td>\n",
              "      <td>7</td>\n",
              "      <td>180</td>\n",
              "      <td>7</td>\n",
              "      <td>7</td>\n",
              "      <td>1125</td>\n",
              "      <td>1125</td>\n",
              "      <td>7.0</td>\n",
              "      <td>1125.0</td>\n",
              "      <td>4 months ago</td>\n",
              "      <td>t</td>\n",
              "      <td>0</td>\n",
              "      <td>6</td>\n",
              "      <td>36</td>\n",
              "      <td>287</td>\n",
              "      <td>2020-06-19</td>\n",
              "      <td>251</td>\n",
              "      <td>20</td>\n",
              "      <td>2010-07-15</td>\n",
              "      <td>2020-04-06</td>\n",
              "      <td>93.0</td>\n",
              "      <td>9.0</td>\n",
              "      <td>10.0</td>\n",
              "      <td>10.0</td>\n",
              "      <td>10.0</td>\n",
              "      <td>10.0</td>\n",
              "      <td>9.0</td>\n",
              "      <td>f</td>\n",
              "      <td>NaN</td>\n",
              "      <td>NaN</td>\n",
              "      <td>t</td>\n",
              "      <td>f</td>\n",
              "      <td>moderate</td>\n",
              "      <td>f</td>\n",
              "      <td>f</td>\n",
              "      <td>1</td>\n",
              "      <td>1</td>\n",
              "      <td>0</td>\n",
              "      <td>0</td>\n",
              "      <td>2.08</td>\n",
              "    </tr>\n",
              "    <tr>\n",
              "      <th>1</th>\n",
              "      <td>21280</td>\n",
              "      <td>https://www.airbnb.com/rooms/21280</td>\n",
              "      <td>20200619025839</td>\n",
              "      <td>2020-06-19</td>\n",
              "      <td>Renovated Modern Apt. Near Beach</td>\n",
              "      <td>Immaculately renovated top-floor apartment ove...</td>\n",
              "      <td>Immaculately renovated top-floor apartment in ...</td>\n",
              "      <td>Immaculately renovated top-floor apartment ove...</td>\n",
              "      <td>none</td>\n",
              "      <td>This is the best neighborhood in Zona Sul.  Fo...</td>\n",
              "      <td>NaN</td>\n",
              "      <td>The new metro station is just a few steps away...</td>\n",
              "      <td>This is an older \"Art Deco\" style building, so...</td>\n",
              "      <td>Someone will be there at check in and check ou...</td>\n",
              "      <td>This is a booking agreement for rental of a tw...</td>\n",
              "      <td>NaN</td>\n",
              "      <td>NaN</td>\n",
              "      <td>https://a0.muscache.com/im/pictures/60851312/b...</td>\n",
              "      <td>NaN</td>\n",
              "      <td>81163</td>\n",
              "      <td>https://www.airbnb.com/users/show/81163</td>\n",
              "      <td>Jules</td>\n",
              "      <td>2010-02-14</td>\n",
              "      <td>Chicago, Illinois, United States</td>\n",
              "      <td>Hi I am Jules and I have a beautiful apartment...</td>\n",
              "      <td>within a few hours</td>\n",
              "      <td>100%</td>\n",
              "      <td>90%</td>\n",
              "      <td>f</td>\n",
              "      <td>https://a0.muscache.com/im/users/81163/profile...</td>\n",
              "      <td>https://a0.muscache.com/im/users/81163/profile...</td>\n",
              "      <td>Ipanema</td>\n",
              "      <td>0.0</td>\n",
              "      <td>0.0</td>\n",
              "      <td>['email', 'phone', 'reviews', 'kba']</td>\n",
              "      <td>t</td>\n",
              "      <td>t</td>\n",
              "      <td>Rio de Janeiro, RJ, Brazil</td>\n",
              "      <td>Ipanema</td>\n",
              "      <td>Ipanema</td>\n",
              "      <td>NaN</td>\n",
              "      <td>Rio de Janeiro</td>\n",
              "      <td>RJ</td>\n",
              "      <td>22420-010</td>\n",
              "      <td>Rio De Janeiro</td>\n",
              "      <td>Rio de Janeiro, Brazil</td>\n",
              "      <td>BR</td>\n",
              "      <td>Brazil</td>\n",
              "      <td>-22.98467</td>\n",
              "      <td>-43.19611</td>\n",
              "      <td>t</td>\n",
              "      <td>Apartment</td>\n",
              "      <td>Entire home/apt</td>\n",
              "      <td>6</td>\n",
              "      <td>2.0</td>\n",
              "      <td>2.0</td>\n",
              "      <td>4.0</td>\n",
              "      <td>Real Bed</td>\n",
              "      <td>{TV,\"Cable TV\",Internet,Wifi,\"Air conditioning...</td>\n",
              "      <td>NaN</td>\n",
              "      <td>$424.00</td>\n",
              "      <td>$4,945.00</td>\n",
              "      <td>$17,455.00</td>\n",
              "      <td>$2,647.00</td>\n",
              "      <td>$265.00</td>\n",
              "      <td>6</td>\n",
              "      <td>$0.00</td>\n",
              "      <td>5</td>\n",
              "      <td>30</td>\n",
              "      <td>5</td>\n",
              "      <td>5</td>\n",
              "      <td>30</td>\n",
              "      <td>30</td>\n",
              "      <td>5.0</td>\n",
              "      <td>30.0</td>\n",
              "      <td>4 months ago</td>\n",
              "      <td>t</td>\n",
              "      <td>19</td>\n",
              "      <td>49</td>\n",
              "      <td>79</td>\n",
              "      <td>93</td>\n",
              "      <td>2020-06-19</td>\n",
              "      <td>94</td>\n",
              "      <td>6</td>\n",
              "      <td>2014-02-14</td>\n",
              "      <td>2020-03-22</td>\n",
              "      <td>97.0</td>\n",
              "      <td>10.0</td>\n",
              "      <td>10.0</td>\n",
              "      <td>10.0</td>\n",
              "      <td>10.0</td>\n",
              "      <td>10.0</td>\n",
              "      <td>10.0</td>\n",
              "      <td>f</td>\n",
              "      <td>NaN</td>\n",
              "      <td>NaN</td>\n",
              "      <td>f</td>\n",
              "      <td>f</td>\n",
              "      <td>strict_14_with_grace_period</td>\n",
              "      <td>f</td>\n",
              "      <td>f</td>\n",
              "      <td>1</td>\n",
              "      <td>1</td>\n",
              "      <td>0</td>\n",
              "      <td>0</td>\n",
              "      <td>1.22</td>\n",
              "    </tr>\n",
              "    <tr>\n",
              "      <th>2</th>\n",
              "      <td>25026</td>\n",
              "      <td>https://www.airbnb.com/rooms/25026</td>\n",
              "      <td>20200619025839</td>\n",
              "      <td>2020-06-19</td>\n",
              "      <td>Beautiful Modern Decorated Studio in Copa</td>\n",
              "      <td>Our apartment is a little gem, everyone loves ...</td>\n",
              "      <td>This newly renovated studio (last renovations ...</td>\n",
              "      <td>Our apartment is a little gem, everyone loves ...</td>\n",
              "      <td>none</td>\n",
              "      <td>Copacabana is a lively neighborhood and the ap...</td>\n",
              "      <td>For any stay superior to 15 days, an additiona...</td>\n",
              "      <td>At night we recommend you to take taxis only. ...</td>\n",
              "      <td>internet wi-fi, cable tv, air cond, ceiling fa...</td>\n",
              "      <td>Only at check in, we like to leave our guests ...</td>\n",
              "      <td>Smoking outside only. Family building so pleas...</td>\n",
              "      <td>NaN</td>\n",
              "      <td>NaN</td>\n",
              "      <td>https://a0.muscache.com/im/pictures/3003965/68...</td>\n",
              "      <td>NaN</td>\n",
              "      <td>102840</td>\n",
              "      <td>https://www.airbnb.com/users/show/102840</td>\n",
              "      <td>Viviane</td>\n",
              "      <td>2010-04-03</td>\n",
              "      <td>Rio de Janeiro, State of Rio de Janeiro, Brazil</td>\n",
              "      <td>Hi guys, We're a lovely team of 3 people:\\r\\n\\...</td>\n",
              "      <td>within a day</td>\n",
              "      <td>70%</td>\n",
              "      <td>77%</td>\n",
              "      <td>f</td>\n",
              "      <td>https://a0.muscache.com/im/pictures/user/9e204...</td>\n",
              "      <td>https://a0.muscache.com/im/pictures/user/9e204...</td>\n",
              "      <td>Copacabana</td>\n",
              "      <td>3.0</td>\n",
              "      <td>3.0</td>\n",
              "      <td>['email', 'phone', 'facebook', 'reviews', 'jum...</td>\n",
              "      <td>t</td>\n",
              "      <td>t</td>\n",
              "      <td>Rio de Janeiro, Rio de Janeiro, Brazil</td>\n",
              "      <td>Copacabana</td>\n",
              "      <td>Copacabana</td>\n",
              "      <td>NaN</td>\n",
              "      <td>Rio de Janeiro</td>\n",
              "      <td>Rio de Janeiro</td>\n",
              "      <td>22060-020</td>\n",
              "      <td>Rio De Janeiro</td>\n",
              "      <td>Rio de Janeiro, Brazil</td>\n",
              "      <td>BR</td>\n",
              "      <td>Brazil</td>\n",
              "      <td>-22.97712</td>\n",
              "      <td>-43.19045</td>\n",
              "      <td>t</td>\n",
              "      <td>Apartment</td>\n",
              "      <td>Entire home/apt</td>\n",
              "      <td>2</td>\n",
              "      <td>1.0</td>\n",
              "      <td>1.0</td>\n",
              "      <td>2.0</td>\n",
              "      <td>Real Bed</td>\n",
              "      <td>{TV,\"Cable TV\",Internet,Wifi,\"Air conditioning...</td>\n",
              "      <td>NaN</td>\n",
              "      <td>$159.00</td>\n",
              "      <td>NaN</td>\n",
              "      <td>NaN</td>\n",
              "      <td>$1,000.00</td>\n",
              "      <td>$250.00</td>\n",
              "      <td>2</td>\n",
              "      <td>$45.00</td>\n",
              "      <td>7</td>\n",
              "      <td>60</td>\n",
              "      <td>7</td>\n",
              "      <td>7</td>\n",
              "      <td>60</td>\n",
              "      <td>60</td>\n",
              "      <td>7.0</td>\n",
              "      <td>60.0</td>\n",
              "      <td>5 months ago</td>\n",
              "      <td>t</td>\n",
              "      <td>0</td>\n",
              "      <td>0</td>\n",
              "      <td>0</td>\n",
              "      <td>154</td>\n",
              "      <td>2020-06-19</td>\n",
              "      <td>238</td>\n",
              "      <td>7</td>\n",
              "      <td>2010-06-07</td>\n",
              "      <td>2020-02-15</td>\n",
              "      <td>94.0</td>\n",
              "      <td>9.0</td>\n",
              "      <td>9.0</td>\n",
              "      <td>9.0</td>\n",
              "      <td>10.0</td>\n",
              "      <td>10.0</td>\n",
              "      <td>9.0</td>\n",
              "      <td>f</td>\n",
              "      <td>NaN</td>\n",
              "      <td>NaN</td>\n",
              "      <td>f</td>\n",
              "      <td>f</td>\n",
              "      <td>strict_14_with_grace_period</td>\n",
              "      <td>t</td>\n",
              "      <td>t</td>\n",
              "      <td>3</td>\n",
              "      <td>3</td>\n",
              "      <td>0</td>\n",
              "      <td>0</td>\n",
              "      <td>1.95</td>\n",
              "    </tr>\n",
              "    <tr>\n",
              "      <th>3</th>\n",
              "      <td>31560</td>\n",
              "      <td>https://www.airbnb.com/rooms/31560</td>\n",
              "      <td>20200619025839</td>\n",
              "      <td>2020-06-19</td>\n",
              "      <td>NICE &amp; COZY 1BDR - IPANEMA BEACH</td>\n",
              "      <td>This nice and clean 1 bedroom apartment is loc...</td>\n",
              "      <td>This nice and clean 1 bedroom apartment is loc...</td>\n",
              "      <td>This nice and clean 1 bedroom apartment is loc...</td>\n",
              "      <td>none</td>\n",
              "      <td>Die Nachbarschaft von Ipanema ist super lebend...</td>\n",
              "      <td>NaN</td>\n",
              "      <td>Bus, U-Bahn, Taxi und Leihfahrräder in der Nähe.</td>\n",
              "      <td>Die Urlauber dürfen das Badezimmer benutzen, d...</td>\n",
              "      <td>NaN</td>\n",
              "      <td>So far, I haven't had any problems with guests...</td>\n",
              "      <td>NaN</td>\n",
              "      <td>NaN</td>\n",
              "      <td>https://a0.muscache.com/im/pictures/83114449/2...</td>\n",
              "      <td>NaN</td>\n",
              "      <td>135635</td>\n",
              "      <td>https://www.airbnb.com/users/show/135635</td>\n",
              "      <td>Renata</td>\n",
              "      <td>2010-05-31</td>\n",
              "      <td>Rio de Janeiro, Rio de Janeiro, Brazil</td>\n",
              "      <td>I was born and raised in Rio de (Website hidde...</td>\n",
              "      <td>NaN</td>\n",
              "      <td>NaN</td>\n",
              "      <td>100%</td>\n",
              "      <td>t</td>\n",
              "      <td>https://a0.muscache.com/im/users/135635/profil...</td>\n",
              "      <td>https://a0.muscache.com/im/users/135635/profil...</td>\n",
              "      <td>Ipanema</td>\n",
              "      <td>1.0</td>\n",
              "      <td>1.0</td>\n",
              "      <td>['email', 'phone', 'manual_online', 'facebook'...</td>\n",
              "      <td>t</td>\n",
              "      <td>t</td>\n",
              "      <td>Rio de Janeiro, RJ, Brazil</td>\n",
              "      <td>Ipanema</td>\n",
              "      <td>Ipanema</td>\n",
              "      <td>NaN</td>\n",
              "      <td>Rio de Janeiro</td>\n",
              "      <td>RJ</td>\n",
              "      <td>22410-003</td>\n",
              "      <td>Rio De Janeiro</td>\n",
              "      <td>Rio de Janeiro, Brazil</td>\n",
              "      <td>BR</td>\n",
              "      <td>Brazil</td>\n",
              "      <td>-22.98302</td>\n",
              "      <td>-43.21427</td>\n",
              "      <td>t</td>\n",
              "      <td>Apartment</td>\n",
              "      <td>Entire home/apt</td>\n",
              "      <td>3</td>\n",
              "      <td>1.0</td>\n",
              "      <td>1.0</td>\n",
              "      <td>1.0</td>\n",
              "      <td>Real Bed</td>\n",
              "      <td>{TV,\"Cable TV\",Internet,Wifi,\"Air conditioning...</td>\n",
              "      <td>NaN</td>\n",
              "      <td>$344.00</td>\n",
              "      <td>NaN</td>\n",
              "      <td>NaN</td>\n",
              "      <td>$0.00</td>\n",
              "      <td>$106.00</td>\n",
              "      <td>2</td>\n",
              "      <td>$53.00</td>\n",
              "      <td>2</td>\n",
              "      <td>1125</td>\n",
              "      <td>2</td>\n",
              "      <td>2</td>\n",
              "      <td>1125</td>\n",
              "      <td>1125</td>\n",
              "      <td>2.0</td>\n",
              "      <td>1125.0</td>\n",
              "      <td>3 months ago</td>\n",
              "      <td>t</td>\n",
              "      <td>0</td>\n",
              "      <td>0</td>\n",
              "      <td>0</td>\n",
              "      <td>0</td>\n",
              "      <td>2020-06-19</td>\n",
              "      <td>282</td>\n",
              "      <td>25</td>\n",
              "      <td>2010-07-11</td>\n",
              "      <td>2020-03-02</td>\n",
              "      <td>96.0</td>\n",
              "      <td>10.0</td>\n",
              "      <td>10.0</td>\n",
              "      <td>10.0</td>\n",
              "      <td>10.0</td>\n",
              "      <td>10.0</td>\n",
              "      <td>10.0</td>\n",
              "      <td>f</td>\n",
              "      <td>NaN</td>\n",
              "      <td>NaN</td>\n",
              "      <td>t</td>\n",
              "      <td>f</td>\n",
              "      <td>strict_14_with_grace_period</td>\n",
              "      <td>f</td>\n",
              "      <td>f</td>\n",
              "      <td>1</td>\n",
              "      <td>1</td>\n",
              "      <td>0</td>\n",
              "      <td>0</td>\n",
              "      <td>2.33</td>\n",
              "    </tr>\n",
              "    <tr>\n",
              "      <th>4</th>\n",
              "      <td>35636</td>\n",
              "      <td>https://www.airbnb.com/rooms/35636</td>\n",
              "      <td>20200619025839</td>\n",
              "      <td>2020-06-20</td>\n",
              "      <td>Cosy flat close to Ipanema beach</td>\n",
              "      <td>This cosy apartment  is just a few steps away ...</td>\n",
              "      <td>The location is extremely convenient, safe and...</td>\n",
              "      <td>This cosy apartment  is just a few steps away ...</td>\n",
              "      <td>none</td>\n",
              "      <td>The  apartment street is very quiet and safe ....</td>\n",
              "      <td>Please include the following information with ...</td>\n",
              "      <td>Metro stop just 5 blocks from our place. Buses...</td>\n",
              "      <td>NaN</td>\n",
              "      <td>NaN</td>\n",
              "      <td>Dear Guest, Welcome! We hope you enjoy our apa...</td>\n",
              "      <td>NaN</td>\n",
              "      <td>NaN</td>\n",
              "      <td>https://a0.muscache.com/im/pictures/20009355/3...</td>\n",
              "      <td>NaN</td>\n",
              "      <td>153232</td>\n",
              "      <td>https://www.airbnb.com/users/show/153232</td>\n",
              "      <td>Patricia</td>\n",
              "      <td>2010-06-27</td>\n",
              "      <td>San Carlos de Bariloche, Rio Negro, Argentina</td>\n",
              "      <td>I am Brazilian and Carioca graphic designer, b...</td>\n",
              "      <td>within a few hours</td>\n",
              "      <td>100%</td>\n",
              "      <td>85%</td>\n",
              "      <td>f</td>\n",
              "      <td>https://a0.muscache.com/im/users/153232/profil...</td>\n",
              "      <td>https://a0.muscache.com/im/users/153232/profil...</td>\n",
              "      <td>Ipanema</td>\n",
              "      <td>1.0</td>\n",
              "      <td>1.0</td>\n",
              "      <td>['email', 'phone', 'facebook', 'reviews', 'man...</td>\n",
              "      <td>t</td>\n",
              "      <td>t</td>\n",
              "      <td>Rio de Janeiro, Rio de Janeiro, Brazil</td>\n",
              "      <td>Ipanema</td>\n",
              "      <td>Ipanema</td>\n",
              "      <td>NaN</td>\n",
              "      <td>Rio de Janeiro</td>\n",
              "      <td>Rio de Janeiro</td>\n",
              "      <td>22081-020</td>\n",
              "      <td>Rio De Janeiro</td>\n",
              "      <td>Rio de Janeiro, Brazil</td>\n",
              "      <td>BR</td>\n",
              "      <td>Brazil</td>\n",
              "      <td>-22.98816</td>\n",
              "      <td>-43.19359</td>\n",
              "      <td>t</td>\n",
              "      <td>Apartment</td>\n",
              "      <td>Entire home/apt</td>\n",
              "      <td>2</td>\n",
              "      <td>1.5</td>\n",
              "      <td>1.0</td>\n",
              "      <td>1.0</td>\n",
              "      <td>Real Bed</td>\n",
              "      <td>{TV,\"Cable TV\",Internet,Wifi,\"Air conditioning...</td>\n",
              "      <td>NaN</td>\n",
              "      <td>$482.00</td>\n",
              "      <td>NaN</td>\n",
              "      <td>$12,313.00</td>\n",
              "      <td>$1,338.00</td>\n",
              "      <td>$219.00</td>\n",
              "      <td>2</td>\n",
              "      <td>$0.00</td>\n",
              "      <td>2</td>\n",
              "      <td>89</td>\n",
              "      <td>2</td>\n",
              "      <td>2</td>\n",
              "      <td>89</td>\n",
              "      <td>89</td>\n",
              "      <td>2.0</td>\n",
              "      <td>89.0</td>\n",
              "      <td>4 months ago</td>\n",
              "      <td>t</td>\n",
              "      <td>0</td>\n",
              "      <td>0</td>\n",
              "      <td>0</td>\n",
              "      <td>170</td>\n",
              "      <td>2020-06-20</td>\n",
              "      <td>181</td>\n",
              "      <td>23</td>\n",
              "      <td>2013-10-22</td>\n",
              "      <td>2020-03-15</td>\n",
              "      <td>94.0</td>\n",
              "      <td>10.0</td>\n",
              "      <td>9.0</td>\n",
              "      <td>10.0</td>\n",
              "      <td>10.0</td>\n",
              "      <td>10.0</td>\n",
              "      <td>9.0</td>\n",
              "      <td>f</td>\n",
              "      <td>NaN</td>\n",
              "      <td>NaN</td>\n",
              "      <td>f</td>\n",
              "      <td>f</td>\n",
              "      <td>strict_14_with_grace_period</td>\n",
              "      <td>t</td>\n",
              "      <td>t</td>\n",
              "      <td>1</td>\n",
              "      <td>1</td>\n",
              "      <td>0</td>\n",
              "      <td>0</td>\n",
              "      <td>2.23</td>\n",
              "    </tr>\n",
              "  </tbody>\n",
              "</table>\n",
              "</div>"
            ],
            "text/plain": [
              "      id                         listing_url       scrape_id last_scraped  \\\n",
              "0  17878  https://www.airbnb.com/rooms/17878  20200619025839   2020-06-19   \n",
              "1  21280  https://www.airbnb.com/rooms/21280  20200619025839   2020-06-19   \n",
              "2  25026  https://www.airbnb.com/rooms/25026  20200619025839   2020-06-19   \n",
              "3  31560  https://www.airbnb.com/rooms/31560  20200619025839   2020-06-19   \n",
              "4  35636  https://www.airbnb.com/rooms/35636  20200619025839   2020-06-20   \n",
              "\n",
              "                                                name  \\\n",
              "0  Very Nice 2Br in Copacabana w. balcony, fast WiFi   \n",
              "1                   Renovated Modern Apt. Near Beach   \n",
              "2          Beautiful Modern Decorated Studio in Copa   \n",
              "3                   NICE & COZY 1BDR - IPANEMA BEACH   \n",
              "4                   Cosy flat close to Ipanema beach   \n",
              "\n",
              "                                             summary  \\\n",
              "0  Discounts for long term stays. Please contact ...   \n",
              "1  Immaculately renovated top-floor apartment ove...   \n",
              "2  Our apartment is a little gem, everyone loves ...   \n",
              "3  This nice and clean 1 bedroom apartment is loc...   \n",
              "4  This cosy apartment  is just a few steps away ...   \n",
              "\n",
              "                                               space  \\\n",
              "0  - Beautiful, sunny 2 bedroom (90 square meters...   \n",
              "1  Immaculately renovated top-floor apartment in ...   \n",
              "2  This newly renovated studio (last renovations ...   \n",
              "3  This nice and clean 1 bedroom apartment is loc...   \n",
              "4  The location is extremely convenient, safe and...   \n",
              "\n",
              "                                         description experiences_offered  \\\n",
              "0  Discounts for long term stays. Please contact ...                none   \n",
              "1  Immaculately renovated top-floor apartment ove...                none   \n",
              "2  Our apartment is a little gem, everyone loves ...                none   \n",
              "3  This nice and clean 1 bedroom apartment is loc...                none   \n",
              "4  This cosy apartment  is just a few steps away ...                none   \n",
              "\n",
              "                               neighborhood_overview  \\\n",
              "0  This is the one of the bests spots in Rio. Bec...   \n",
              "1  This is the best neighborhood in Zona Sul.  Fo...   \n",
              "2  Copacabana is a lively neighborhood and the ap...   \n",
              "3  Die Nachbarschaft von Ipanema ist super lebend...   \n",
              "4  The  apartment street is very quiet and safe ....   \n",
              "\n",
              "                                               notes  \\\n",
              "0                                                NaN   \n",
              "1                                                NaN   \n",
              "2  For any stay superior to 15 days, an additiona...   \n",
              "3                                                NaN   \n",
              "4  Please include the following information with ...   \n",
              "\n",
              "                                             transit  \\\n",
              "0  Excellent location. Close to all major attract...   \n",
              "1  The new metro station is just a few steps away...   \n",
              "2  At night we recommend you to take taxis only. ...   \n",
              "3   Bus, U-Bahn, Taxi und Leihfahrräder in der Nähe.   \n",
              "4  Metro stop just 5 blocks from our place. Buses...   \n",
              "\n",
              "                                              access  \\\n",
              "0  The entire apartment is yours. It's like your ...   \n",
              "1  This is an older \"Art Deco\" style building, so...   \n",
              "2  internet wi-fi, cable tv, air cond, ceiling fa...   \n",
              "3  Die Urlauber dürfen das Badezimmer benutzen, d...   \n",
              "4                                                NaN   \n",
              "\n",
              "                                         interaction  \\\n",
              "0  I will be available throughout your stay shoul...   \n",
              "1  Someone will be there at check in and check ou...   \n",
              "2  Only at check in, we like to leave our guests ...   \n",
              "3                                                NaN   \n",
              "4                                                NaN   \n",
              "\n",
              "                                         house_rules  thumbnail_url  \\\n",
              "0  Please leave the apartment in a clean fashion ...            NaN   \n",
              "1  This is a booking agreement for rental of a tw...            NaN   \n",
              "2  Smoking outside only. Family building so pleas...            NaN   \n",
              "3  So far, I haven't had any problems with guests...            NaN   \n",
              "4  Dear Guest, Welcome! We hope you enjoy our apa...            NaN   \n",
              "\n",
              "   medium_url                                        picture_url  \\\n",
              "0         NaN  https://a0.muscache.com/im/pictures/65320518/3...   \n",
              "1         NaN  https://a0.muscache.com/im/pictures/60851312/b...   \n",
              "2         NaN  https://a0.muscache.com/im/pictures/3003965/68...   \n",
              "3         NaN  https://a0.muscache.com/im/pictures/83114449/2...   \n",
              "4         NaN  https://a0.muscache.com/im/pictures/20009355/3...   \n",
              "\n",
              "   xl_picture_url  host_id                                  host_url  \\\n",
              "0             NaN    68997   https://www.airbnb.com/users/show/68997   \n",
              "1             NaN    81163   https://www.airbnb.com/users/show/81163   \n",
              "2             NaN   102840  https://www.airbnb.com/users/show/102840   \n",
              "3             NaN   135635  https://www.airbnb.com/users/show/135635   \n",
              "4             NaN   153232  https://www.airbnb.com/users/show/153232   \n",
              "\n",
              "  host_name  host_since                                    host_location  \\\n",
              "0  Matthias  2010-01-08  Rio de Janeiro, State of Rio de Janeiro, Brazil   \n",
              "1     Jules  2010-02-14                 Chicago, Illinois, United States   \n",
              "2   Viviane  2010-04-03  Rio de Janeiro, State of Rio de Janeiro, Brazil   \n",
              "3    Renata  2010-05-31           Rio de Janeiro, Rio de Janeiro, Brazil   \n",
              "4  Patricia  2010-06-27    San Carlos de Bariloche, Rio Negro, Argentina   \n",
              "\n",
              "                                          host_about  host_response_time  \\\n",
              "0  I  am a  journalist/writer. Lived for 15 years...      within an hour   \n",
              "1  Hi I am Jules and I have a beautiful apartment...  within a few hours   \n",
              "2  Hi guys, We're a lovely team of 3 people:\\r\\n\\...        within a day   \n",
              "3  I was born and raised in Rio de (Website hidde...                 NaN   \n",
              "4  I am Brazilian and Carioca graphic designer, b...  within a few hours   \n",
              "\n",
              "  host_response_rate host_acceptance_rate host_is_superhost  \\\n",
              "0               100%                 100%                 t   \n",
              "1               100%                  90%                 f   \n",
              "2                70%                  77%                 f   \n",
              "3                NaN                 100%                 t   \n",
              "4               100%                  85%                 f   \n",
              "\n",
              "                                  host_thumbnail_url  \\\n",
              "0  https://a0.muscache.com/im/pictures/user/67b13...   \n",
              "1  https://a0.muscache.com/im/users/81163/profile...   \n",
              "2  https://a0.muscache.com/im/pictures/user/9e204...   \n",
              "3  https://a0.muscache.com/im/users/135635/profil...   \n",
              "4  https://a0.muscache.com/im/users/153232/profil...   \n",
              "\n",
              "                                    host_picture_url host_neighbourhood  \\\n",
              "0  https://a0.muscache.com/im/pictures/user/67b13...         Copacabana   \n",
              "1  https://a0.muscache.com/im/users/81163/profile...            Ipanema   \n",
              "2  https://a0.muscache.com/im/pictures/user/9e204...         Copacabana   \n",
              "3  https://a0.muscache.com/im/users/135635/profil...            Ipanema   \n",
              "4  https://a0.muscache.com/im/users/153232/profil...            Ipanema   \n",
              "\n",
              "   host_listings_count  host_total_listings_count  \\\n",
              "0                  2.0                        2.0   \n",
              "1                  0.0                        0.0   \n",
              "2                  3.0                        3.0   \n",
              "3                  1.0                        1.0   \n",
              "4                  1.0                        1.0   \n",
              "\n",
              "                                  host_verifications host_has_profile_pic  \\\n",
              "0  ['email', 'phone', 'reviews', 'jumio', 'offlin...                    t   \n",
              "1               ['email', 'phone', 'reviews', 'kba']                    t   \n",
              "2  ['email', 'phone', 'facebook', 'reviews', 'jum...                    t   \n",
              "3  ['email', 'phone', 'manual_online', 'facebook'...                    t   \n",
              "4  ['email', 'phone', 'facebook', 'reviews', 'man...                    t   \n",
              "\n",
              "  host_identity_verified                                  street  \\\n",
              "0                      t  Rio de Janeiro, Rio de Janeiro, Brazil   \n",
              "1                      t              Rio de Janeiro, RJ, Brazil   \n",
              "2                      t  Rio de Janeiro, Rio de Janeiro, Brazil   \n",
              "3                      t              Rio de Janeiro, RJ, Brazil   \n",
              "4                      t  Rio de Janeiro, Rio de Janeiro, Brazil   \n",
              "\n",
              "  neighbourhood neighbourhood_cleansed  neighbourhood_group_cleansed  \\\n",
              "0    Copacabana             Copacabana                           NaN   \n",
              "1       Ipanema                Ipanema                           NaN   \n",
              "2    Copacabana             Copacabana                           NaN   \n",
              "3       Ipanema                Ipanema                           NaN   \n",
              "4       Ipanema                Ipanema                           NaN   \n",
              "\n",
              "             city           state    zipcode          market  \\\n",
              "0  Rio de Janeiro  Rio de Janeiro  22020-050  Rio De Janeiro   \n",
              "1  Rio de Janeiro              RJ  22420-010  Rio De Janeiro   \n",
              "2  Rio de Janeiro  Rio de Janeiro  22060-020  Rio De Janeiro   \n",
              "3  Rio de Janeiro              RJ  22410-003  Rio De Janeiro   \n",
              "4  Rio de Janeiro  Rio de Janeiro  22081-020  Rio De Janeiro   \n",
              "\n",
              "           smart_location country_code country  latitude  longitude  \\\n",
              "0  Rio de Janeiro, Brazil           BR  Brazil -22.96592  -43.17896   \n",
              "1  Rio de Janeiro, Brazil           BR  Brazil -22.98467  -43.19611   \n",
              "2  Rio de Janeiro, Brazil           BR  Brazil -22.97712  -43.19045   \n",
              "3  Rio de Janeiro, Brazil           BR  Brazil -22.98302  -43.21427   \n",
              "4  Rio de Janeiro, Brazil           BR  Brazil -22.98816  -43.19359   \n",
              "\n",
              "  is_location_exact property_type        room_type  accommodates  bathrooms  \\\n",
              "0                 t   Condominium  Entire home/apt             5        1.0   \n",
              "1                 t     Apartment  Entire home/apt             6        2.0   \n",
              "2                 t     Apartment  Entire home/apt             2        1.0   \n",
              "3                 t     Apartment  Entire home/apt             3        1.0   \n",
              "4                 t     Apartment  Entire home/apt             2        1.5   \n",
              "\n",
              "   bedrooms  beds  bed_type  \\\n",
              "0       2.0   2.0  Real Bed   \n",
              "1       2.0   4.0  Real Bed   \n",
              "2       1.0   2.0  Real Bed   \n",
              "3       1.0   1.0  Real Bed   \n",
              "4       1.0   1.0  Real Bed   \n",
              "\n",
              "                                           amenities  square_feet    price  \\\n",
              "0  {TV,\"Cable TV\",Internet,Wifi,\"Air conditioning...          NaN  $191.00   \n",
              "1  {TV,\"Cable TV\",Internet,Wifi,\"Air conditioning...          NaN  $424.00   \n",
              "2  {TV,\"Cable TV\",Internet,Wifi,\"Air conditioning...          NaN  $159.00   \n",
              "3  {TV,\"Cable TV\",Internet,Wifi,\"Air conditioning...          NaN  $344.00   \n",
              "4  {TV,\"Cable TV\",Internet,Wifi,\"Air conditioning...          NaN  $482.00   \n",
              "\n",
              "  weekly_price monthly_price security_deposit cleaning_fee  guests_included  \\\n",
              "0          NaN           NaN            $0.00      $250.00                2   \n",
              "1    $4,945.00    $17,455.00        $2,647.00      $265.00                6   \n",
              "2          NaN           NaN        $1,000.00      $250.00                2   \n",
              "3          NaN           NaN            $0.00      $106.00                2   \n",
              "4          NaN    $12,313.00        $1,338.00      $219.00                2   \n",
              "\n",
              "  extra_people  minimum_nights  maximum_nights  minimum_minimum_nights  \\\n",
              "0        $0.00               7             180                       7   \n",
              "1        $0.00               5              30                       5   \n",
              "2       $45.00               7              60                       7   \n",
              "3       $53.00               2            1125                       2   \n",
              "4        $0.00               2              89                       2   \n",
              "\n",
              "   maximum_minimum_nights  minimum_maximum_nights  maximum_maximum_nights  \\\n",
              "0                       7                    1125                    1125   \n",
              "1                       5                      30                      30   \n",
              "2                       7                      60                      60   \n",
              "3                       2                    1125                    1125   \n",
              "4                       2                      89                      89   \n",
              "\n",
              "   minimum_nights_avg_ntm  maximum_nights_avg_ntm calendar_updated  \\\n",
              "0                     7.0                  1125.0     4 months ago   \n",
              "1                     5.0                    30.0     4 months ago   \n",
              "2                     7.0                    60.0     5 months ago   \n",
              "3                     2.0                  1125.0     3 months ago   \n",
              "4                     2.0                    89.0     4 months ago   \n",
              "\n",
              "  has_availability  availability_30  availability_60  availability_90  \\\n",
              "0                t                0                6               36   \n",
              "1                t               19               49               79   \n",
              "2                t                0                0                0   \n",
              "3                t                0                0                0   \n",
              "4                t                0                0                0   \n",
              "\n",
              "   availability_365 calendar_last_scraped  number_of_reviews  \\\n",
              "0               287            2020-06-19                251   \n",
              "1                93            2020-06-19                 94   \n",
              "2               154            2020-06-19                238   \n",
              "3                 0            2020-06-19                282   \n",
              "4               170            2020-06-20                181   \n",
              "\n",
              "   number_of_reviews_ltm first_review last_review  review_scores_rating  \\\n",
              "0                     20   2010-07-15  2020-04-06                  93.0   \n",
              "1                      6   2014-02-14  2020-03-22                  97.0   \n",
              "2                      7   2010-06-07  2020-02-15                  94.0   \n",
              "3                     25   2010-07-11  2020-03-02                  96.0   \n",
              "4                     23   2013-10-22  2020-03-15                  94.0   \n",
              "\n",
              "   review_scores_accuracy  review_scores_cleanliness  review_scores_checkin  \\\n",
              "0                     9.0                       10.0                   10.0   \n",
              "1                    10.0                       10.0                   10.0   \n",
              "2                     9.0                        9.0                    9.0   \n",
              "3                    10.0                       10.0                   10.0   \n",
              "4                    10.0                        9.0                   10.0   \n",
              "\n",
              "   review_scores_communication  review_scores_location  review_scores_value  \\\n",
              "0                         10.0                    10.0                  9.0   \n",
              "1                         10.0                    10.0                 10.0   \n",
              "2                         10.0                    10.0                  9.0   \n",
              "3                         10.0                    10.0                 10.0   \n",
              "4                         10.0                    10.0                  9.0   \n",
              "\n",
              "  requires_license license  jurisdiction_names instant_bookable  \\\n",
              "0                f     NaN                 NaN                t   \n",
              "1                f     NaN                 NaN                f   \n",
              "2                f     NaN                 NaN                f   \n",
              "3                f     NaN                 NaN                t   \n",
              "4                f     NaN                 NaN                f   \n",
              "\n",
              "  is_business_travel_ready          cancellation_policy  \\\n",
              "0                        f                     moderate   \n",
              "1                        f  strict_14_with_grace_period   \n",
              "2                        f  strict_14_with_grace_period   \n",
              "3                        f  strict_14_with_grace_period   \n",
              "4                        f  strict_14_with_grace_period   \n",
              "\n",
              "  require_guest_profile_picture require_guest_phone_verification  \\\n",
              "0                             f                                f   \n",
              "1                             f                                f   \n",
              "2                             t                                t   \n",
              "3                             f                                f   \n",
              "4                             t                                t   \n",
              "\n",
              "   calculated_host_listings_count  \\\n",
              "0                               1   \n",
              "1                               1   \n",
              "2                               3   \n",
              "3                               1   \n",
              "4                               1   \n",
              "\n",
              "   calculated_host_listings_count_entire_homes  \\\n",
              "0                                            1   \n",
              "1                                            1   \n",
              "2                                            3   \n",
              "3                                            1   \n",
              "4                                            1   \n",
              "\n",
              "   calculated_host_listings_count_private_rooms  \\\n",
              "0                                             0   \n",
              "1                                             0   \n",
              "2                                             0   \n",
              "3                                             0   \n",
              "4                                             0   \n",
              "\n",
              "   calculated_host_listings_count_shared_rooms  reviews_per_month  \n",
              "0                                            0               2.08  \n",
              "1                                            0               1.22  \n",
              "2                                            0               1.95  \n",
              "3                                            0               2.33  \n",
              "4                                            0               2.23  "
            ]
          },
          "metadata": {
            "tags": []
          },
          "execution_count": 2
        }
      ]
    },
    {
      "cell_type": "code",
      "metadata": {
        "id": "vFZe2_FGO6q5",
        "outputId": "ff3e6686-dcc0-49e1-f44e-9d5e0599eb70",
        "colab": {
          "base_uri": "https://localhost:8080/",
          "height": 34
        }
      },
      "source": [
        "# Série que será alterada\n",
        "type(df['price'])"
      ],
      "execution_count": 6,
      "outputs": [
        {
          "output_type": "execute_result",
          "data": {
            "text/plain": [
              "pandas.core.series.Series"
            ]
          },
          "metadata": {
            "tags": []
          },
          "execution_count": 6
        }
      ]
    },
    {
      "cell_type": "code",
      "metadata": {
        "id": "wjVmg05HPigY"
      },
      "source": [
        "# Realizando a retirada do cifrão e da vírgula com expressão lambda\n",
        "df['price'] = df['price'].apply(lambda x: float(x.replace('$', '').replace(',', '')))"
      ],
      "execution_count": 12,
      "outputs": []
    },
    {
      "cell_type": "code",
      "metadata": {
        "id": "4fvd-bzYP6PS",
        "outputId": "5322aadc-fd17-4df6-b41f-1ac27efc0029",
        "colab": {
          "base_uri": "https://localhost:8080/",
          "height": 221
        }
      },
      "source": [
        "# Série após as alterações utilizando a expressão lamda\n",
        "df['price'].astype(int)"
      ],
      "execution_count": 19,
      "outputs": [
        {
          "output_type": "execute_result",
          "data": {
            "text/plain": [
              "0        191\n",
              "1        424\n",
              "2        159\n",
              "3        344\n",
              "4        482\n",
              "        ... \n",
              "35726    349\n",
              "35727     59\n",
              "35728    145\n",
              "35729    244\n",
              "35730    392\n",
              "Name: price, Length: 35731, dtype: int64"
            ]
          },
          "metadata": {
            "tags": []
          },
          "execution_count": 19
        }
      ]
    },
    {
      "cell_type": "code",
      "metadata": {
        "id": "Rh3j7MceRBtD",
        "outputId": "3baf6f5f-773a-431f-a2a7-0a369fc28994",
        "colab": {
          "base_uri": "https://localhost:8080/",
          "height": 34
        }
      },
      "source": [
        "# Realizando cálculos matemáticos\n",
        "df['price'].sum()"
      ],
      "execution_count": 22,
      "outputs": [
        {
          "output_type": "execute_result",
          "data": {
            "text/plain": [
              "28079465.0"
            ]
          },
          "metadata": {
            "tags": []
          },
          "execution_count": 22
        }
      ]
    },
    {
      "cell_type": "markdown",
      "metadata": {
        "id": "64sXF5WJSJRl"
      },
      "source": [
        "**Exemplo 02: Alterando uma série do tipo string com expressão lambda.**"
      ]
    },
    {
      "cell_type": "code",
      "metadata": {
        "id": "uKOLAMLASboG"
      },
      "source": [
        "#  Carregando os dados\n",
        "df_02 = pd.read_excel(\"https://www.dropbox.com/s/69pajozeme6ezjc/solicitacoes-de-reconhecimento-da-condicao-de-refugiado.xlsx?dl=1\")"
      ],
      "execution_count": 23,
      "outputs": []
    },
    {
      "cell_type": "code",
      "metadata": {
        "id": "OGhnp6pKSlJc",
        "outputId": "ddd8c061-5fb1-4558-d54d-4d5b2a11f4dd",
        "colab": {
          "base_uri": "https://localhost:8080/",
          "height": 204
        }
      },
      "source": [
        "# Visualizando as primeiras entradas\n",
        "df_02.head()"
      ],
      "execution_count": 25,
      "outputs": [
        {
          "output_type": "execute_result",
          "data": {
            "text/html": [
              "<div>\n",
              "<style scoped>\n",
              "    .dataframe tbody tr th:only-of-type {\n",
              "        vertical-align: middle;\n",
              "    }\n",
              "\n",
              "    .dataframe tbody tr th {\n",
              "        vertical-align: top;\n",
              "    }\n",
              "\n",
              "    .dataframe thead th {\n",
              "        text-align: right;\n",
              "    }\n",
              "</style>\n",
              "<table border=\"1\" class=\"dataframe\">\n",
              "  <thead>\n",
              "    <tr style=\"text-align: right;\">\n",
              "      <th></th>\n",
              "      <th>Tipo de Alertas e Restrições</th>\n",
              "      <th>Nacionalidade</th>\n",
              "      <th>Mês/Ano</th>\n",
              "      <th>UF</th>\n",
              "      <th>Quantidade</th>\n",
              "    </tr>\n",
              "  </thead>\n",
              "  <tbody>\n",
              "    <tr>\n",
              "      <th>0</th>\n",
              "      <td>SOLICITAÇÃO DE REFÚGIO</td>\n",
              "      <td>AFEGANISTÃO</td>\n",
              "      <td>12/2001</td>\n",
              "      <td>DF</td>\n",
              "      <td>1</td>\n",
              "    </tr>\n",
              "    <tr>\n",
              "      <th>1</th>\n",
              "      <td>SOLICITAÇÃO DE REFÚGIO</td>\n",
              "      <td>AFEGANISTÃO</td>\n",
              "      <td>01/2010</td>\n",
              "      <td>DF</td>\n",
              "      <td>1</td>\n",
              "    </tr>\n",
              "    <tr>\n",
              "      <th>2</th>\n",
              "      <td>SOLICITAÇÃO DE REFÚGIO</td>\n",
              "      <td>AFEGANISTÃO</td>\n",
              "      <td>03/2010</td>\n",
              "      <td>DF</td>\n",
              "      <td>2</td>\n",
              "    </tr>\n",
              "    <tr>\n",
              "      <th>3</th>\n",
              "      <td>SOLICITAÇÃO DE REFÚGIO</td>\n",
              "      <td>AFEGANISTÃO</td>\n",
              "      <td>03/2010</td>\n",
              "      <td>SP</td>\n",
              "      <td>2</td>\n",
              "    </tr>\n",
              "    <tr>\n",
              "      <th>4</th>\n",
              "      <td>SOLICITAÇÃO DE REFÚGIO</td>\n",
              "      <td>AFEGANISTÃO</td>\n",
              "      <td>08/2010</td>\n",
              "      <td>DF</td>\n",
              "      <td>1</td>\n",
              "    </tr>\n",
              "  </tbody>\n",
              "</table>\n",
              "</div>"
            ],
            "text/plain": [
              "  Tipo de Alertas e Restrições Nacionalidade  Mês/Ano  UF  Quantidade\n",
              "0       SOLICITAÇÃO DE REFÚGIO   AFEGANISTÃO  12/2001  DF           1\n",
              "1       SOLICITAÇÃO DE REFÚGIO   AFEGANISTÃO  01/2010  DF           1\n",
              "2       SOLICITAÇÃO DE REFÚGIO   AFEGANISTÃO  03/2010  DF           2\n",
              "3       SOLICITAÇÃO DE REFÚGIO   AFEGANISTÃO  03/2010  SP           2\n",
              "4       SOLICITAÇÃO DE REFÚGIO   AFEGANISTÃO  08/2010  DF           1"
            ]
          },
          "metadata": {
            "tags": []
          },
          "execution_count": 25
        }
      ]
    },
    {
      "cell_type": "code",
      "metadata": {
        "id": "PWuxHbpuTO9W",
        "outputId": "c0e3af07-cc1f-4952-c23f-1cde07874ce4",
        "colab": {
          "base_uri": "https://localhost:8080/",
          "height": 221
        }
      },
      "source": [
        "#  Série que será modificada com expressão lambda\n",
        "df_02['Tipo de Alertas e Restrições']"
      ],
      "execution_count": 31,
      "outputs": [
        {
          "output_type": "execute_result",
          "data": {
            "text/plain": [
              "0        Solicitação de refúgio\n",
              "1        Solicitação de refúgio\n",
              "2        Solicitação de refúgio\n",
              "3        Solicitação de refúgio\n",
              "4        Solicitação de refúgio\n",
              "                  ...          \n",
              "11651    Solicitação de refúgio\n",
              "11652    Solicitação de refúgio\n",
              "11653    Solicitação de refúgio\n",
              "11654    Solicitação de refúgio\n",
              "11655    Solicitação de refúgio\n",
              "Name: Tipo de Alertas e Restrições, Length: 11656, dtype: object"
            ]
          },
          "metadata": {
            "tags": []
          },
          "execution_count": 31
        }
      ]
    },
    {
      "cell_type": "code",
      "metadata": {
        "id": "eyDt8RjBStJS"
      },
      "source": [
        "# Tornando a primeira letra maiúscula utilizando expressão lambda\n",
        "df_02['Tipo de Alertas e Restrições'] = df_02['Tipo de Alertas e Restrições'].apply(lambda x: x.capitalize())"
      ],
      "execution_count": 30,
      "outputs": []
    },
    {
      "cell_type": "code",
      "metadata": {
        "id": "x2Tp3BwETiuy",
        "outputId": "c6a6da44-78e2-49f7-b130-752b78d60d89",
        "colab": {
          "base_uri": "https://localhost:8080/",
          "height": 221
        }
      },
      "source": [
        "# Resultado da modificação com a expressão lambda\n",
        "df_02['Tipo de Alertas e Restrições']"
      ],
      "execution_count": 32,
      "outputs": [
        {
          "output_type": "execute_result",
          "data": {
            "text/plain": [
              "0        Solicitação de refúgio\n",
              "1        Solicitação de refúgio\n",
              "2        Solicitação de refúgio\n",
              "3        Solicitação de refúgio\n",
              "4        Solicitação de refúgio\n",
              "                  ...          \n",
              "11651    Solicitação de refúgio\n",
              "11652    Solicitação de refúgio\n",
              "11653    Solicitação de refúgio\n",
              "11654    Solicitação de refúgio\n",
              "11655    Solicitação de refúgio\n",
              "Name: Tipo de Alertas e Restrições, Length: 11656, dtype: object"
            ]
          },
          "metadata": {
            "tags": []
          },
          "execution_count": 32
        }
      ]
    }
  ]
}