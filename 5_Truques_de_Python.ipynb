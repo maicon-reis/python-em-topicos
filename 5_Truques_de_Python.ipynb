{
  "nbformat": 4,
  "nbformat_minor": 0,
  "metadata": {
    "colab": {
      "name": "5 Truques de Python.ipynb",
      "provenance": [],
      "collapsed_sections": [],
      "authorship_tag": "ABX9TyOxgRZ01uMk6XkgZoVbYNsF",
      "include_colab_link": true
    },
    "kernelspec": {
      "name": "python3",
      "display_name": "Python 3"
    },
    "language_info": {
      "name": "python"
    }
  },
  "cells": [
    {
      "cell_type": "markdown",
      "metadata": {
        "id": "view-in-github",
        "colab_type": "text"
      },
      "source": [
        "<a href=\"https://colab.research.google.com/github/maicon-reis/python-em-topicos/blob/main/5_Truques_de_Python.ipynb\" target=\"_parent\"><img src=\"https://colab.research.google.com/assets/colab-badge.svg\" alt=\"Open In Colab\"/></a>"
      ]
    },
    {
      "cell_type": "markdown",
      "metadata": {
        "id": "XCfy8TGsibPR"
      },
      "source": [
        "# **Truque 1**\n",
        "\n",
        "### Utilizando f-strings para otimizar o código."
      ]
    },
    {
      "cell_type": "code",
      "metadata": {
        "colab": {
          "base_uri": "https://localhost:8080/"
        },
        "id": "HTm_nLjSiFbj",
        "outputId": "985e5eb8-1b4f-4d9c-e9e8-1ea6724d18a5"
      },
      "source": [
        "name = 'Maicon'\n",
        "\n",
        "print(f'Olá, {name}.')"
      ],
      "execution_count": 1,
      "outputs": [
        {
          "output_type": "stream",
          "name": "stdout",
          "text": [
            "Olá, Maicon.\n"
          ]
        }
      ]
    },
    {
      "cell_type": "code",
      "metadata": {
        "colab": {
          "base_uri": "https://localhost:8080/"
        },
        "id": "-0CcCHGRjFBI",
        "outputId": "b9dd85cb-31a4-4bc5-892e-5f97dec6e944"
      },
      "source": [
        "number = 1200000\n",
        "\n",
        "# Utilizando f-strings com separaddor\n",
        "print(f'A empresa vale atualmente R$ {number:,d}')"
      ],
      "execution_count": 2,
      "outputs": [
        {
          "output_type": "stream",
          "name": "stdout",
          "text": [
            "A empresa vale atualmente R$ 1,200,000\n"
          ]
        }
      ]
    },
    {
      "cell_type": "code",
      "metadata": {
        "colab": {
          "base_uri": "https://localhost:8080/"
        },
        "id": "6O0U3Sm8jfo_",
        "outputId": "f5dbf0a9-0561-4348-e7da-9c3c80460808"
      },
      "source": [
        "number = 1200000\n",
        "\n",
        "# Utilizando f-strings com casas decimais\n",
        "print(f'A empresa vale atualmente R$ {number:.2f}')"
      ],
      "execution_count": 3,
      "outputs": [
        {
          "output_type": "stream",
          "name": "stdout",
          "text": [
            "A empresa vale atualmente R$ 1200000.00\n"
          ]
        }
      ]
    },
    {
      "cell_type": "markdown",
      "metadata": {
        "id": "ByP_sdOWjmQP"
      },
      "source": [
        "#**Truque 2**\n",
        "\n",
        "### Formas de combinar ítens de uma lista."
      ]
    },
    {
      "cell_type": "code",
      "metadata": {
        "id": "fO078rmYjpAq"
      },
      "source": [
        "# Criando uma lista qualquer\n",
        "lista_qualquer = ['Data', 'Science', 'Machine', 'Learning']"
      ],
      "execution_count": 6,
      "outputs": []
    },
    {
      "cell_type": "code",
      "metadata": {
        "colab": {
          "base_uri": "https://localhost:8080/"
        },
        "id": "qC2NRofHkH3h",
        "outputId": "209a852e-ad02-49d7-857b-a7b83920dc25"
      },
      "source": [
        "# Forma 1\n",
        "# Iterando sobre a lista e acrescentando as strings a uma única string.\n",
        "\n",
        "frase = \"\"\n",
        "\n",
        "for palavra in lista_qualquer:\n",
        "    frase += palavra + \" \"\n",
        "\n",
        "print(frase)"
      ],
      "execution_count": 7,
      "outputs": [
        {
          "output_type": "stream",
          "name": "stdout",
          "text": [
            "Data Science Machine Learning \n"
          ]
        }
      ]
    },
    {
      "cell_type": "code",
      "metadata": {
        "colab": {
          "base_uri": "https://localhost:8080/"
        },
        "id": "3PMKGa3Yk3ZP",
        "outputId": "93529a20-cb79-4e4c-aad8-be374f4d76b1"
      },
      "source": [
        "# Forma 2\n",
        "# Utilizando o método join. Você pode usar o separador que preferir, nesse\n",
        "# caso foi utilizado o espaço.\n",
        "\n",
        "print(\" \".join(lista_qualquer))"
      ],
      "execution_count": 9,
      "outputs": [
        {
          "output_type": "stream",
          "name": "stdout",
          "text": [
            "Data Science Machine Learning\n"
          ]
        }
      ]
    },
    {
      "cell_type": "markdown",
      "metadata": {
        "id": "YbYbbIHVlPIa"
      },
      "source": [
        "#**Truque 3**\n",
        "\n",
        "###Encontrando o item mais frequente em uma lista ou string"
      ]
    },
    {
      "cell_type": "code",
      "metadata": {
        "id": "i4S9OJpWliRG"
      },
      "source": [
        "string_qualquer = 'aaaaaabbbbbccccdddee'"
      ],
      "execution_count": 10,
      "outputs": []
    },
    {
      "cell_type": "code",
      "metadata": {
        "colab": {
          "base_uri": "https://localhost:8080/"
        },
        "id": "IB__Ats1lCIw",
        "outputId": "2abf12d7-c9c8-4338-d014-4fee4bd0ef0b"
      },
      "source": [
        "# Forma 1\n",
        "# Utilizando o Método Counter\n",
        "\n",
        "from collections import Counter\n",
        "\n",
        "# Instanciando o método Count\n",
        "cnt = Counter(string_qualquer)\n",
        "\n",
        "# A função most_common() retorna a contagem dos caracteres em ordem decrescente.\n",
        "cnt.most_common(1)"
      ],
      "execution_count": 11,
      "outputs": [
        {
          "output_type": "execute_result",
          "data": {
            "text/plain": [
              "[('a', 6)]"
            ]
          },
          "metadata": {},
          "execution_count": 11
        }
      ]
    },
    {
      "cell_type": "code",
      "metadata": {
        "colab": {
          "base_uri": "https://localhost:8080/",
          "height": 35
        },
        "id": "qmNx9Ptnl3UO",
        "outputId": "16880a17-0700-45dc-93df-565726dfd408"
      },
      "source": [
        "# Simplificando a função\n",
        "Counter(string_qualquer).most_common(1)[0][0]"
      ],
      "execution_count": 12,
      "outputs": [
        {
          "output_type": "execute_result",
          "data": {
            "application/vnd.google.colaboratory.intrinsic+json": {
              "type": "string"
            },
            "text/plain": [
              "'a'"
            ]
          },
          "metadata": {},
          "execution_count": 12
        }
      ]
    },
    {
      "cell_type": "code",
      "metadata": {
        "colab": {
          "base_uri": "https://localhost:8080/",
          "height": 35
        },
        "id": "Opqt9JNdl9Pd",
        "outputId": "8f7006b7-c48e-4c14-c603-0b1ba71bbefa"
      },
      "source": [
        "# Forma 2\n",
        "# Utilizando a função built-in max configurando o parâmetro nomeado key para\n",
        "# contar os caracteres\n",
        "max(string_qualquer, key=string_qualquer.count)"
      ],
      "execution_count": 13,
      "outputs": [
        {
          "output_type": "execute_result",
          "data": {
            "application/vnd.google.colaboratory.intrinsic+json": {
              "type": "string"
            },
            "text/plain": [
              "'a'"
            ]
          },
          "metadata": {},
          "execution_count": 13
        }
      ]
    },
    {
      "cell_type": "code",
      "metadata": {
        "id": "jo-76fHMFhgf"
      },
      "source": [
        "lista_qualquer = ['coco', 'coco', 'maçã', 'goiaba']"
      ],
      "execution_count": 14,
      "outputs": []
    },
    {
      "cell_type": "code",
      "metadata": {
        "colab": {
          "base_uri": "https://localhost:8080/",
          "height": 35
        },
        "id": "Ab7XnadTnmcx",
        "outputId": "346ee5ff-9367-436f-889a-dec666ba6c38"
      },
      "source": [
        "# Utilizando Counter para identificar o item mais frequente em uma lista\n",
        "Counter(lista_qualquer).most_common(1)[0][0]"
      ],
      "execution_count": 15,
      "outputs": [
        {
          "output_type": "execute_result",
          "data": {
            "application/vnd.google.colaboratory.intrinsic+json": {
              "type": "string"
            },
            "text/plain": [
              "'coco'"
            ]
          },
          "metadata": {},
          "execution_count": 15
        }
      ]
    },
    {
      "cell_type": "code",
      "metadata": {
        "colab": {
          "base_uri": "https://localhost:8080/",
          "height": 35
        },
        "id": "EILplTrUntTC",
        "outputId": "c24c7433-6eef-4165-ec48-9a123a2d5921"
      },
      "source": [
        "# Utilizando max para identificar o item mais frequente em uma lista\n",
        "max(lista_qualquer, key=lista_qualquer.count)"
      ],
      "execution_count": 16,
      "outputs": [
        {
          "output_type": "execute_result",
          "data": {
            "application/vnd.google.colaboratory.intrinsic+json": {
              "type": "string"
            },
            "text/plain": [
              "'coco'"
            ]
          },
          "metadata": {},
          "execution_count": 16
        }
      ]
    },
    {
      "cell_type": "markdown",
      "metadata": {
        "id": "zBBrhJKpn36R"
      },
      "source": [
        "#**Truque 4**\n",
        "\n",
        "## Utilizando random para selecionar um elemento aleatório em uma lista."
      ]
    },
    {
      "cell_type": "code",
      "metadata": {
        "id": "kpBz54tooLGh"
      },
      "source": [
        "lista_qualquer = ['Margareth', 'Paulo', 'Pedro', 'Maicon', 'Jane']"
      ],
      "execution_count": 17,
      "outputs": []
    },
    {
      "cell_type": "code",
      "metadata": {
        "colab": {
          "base_uri": "https://localhost:8080/",
          "height": 35
        },
        "id": "o1vgfZuYoSsQ",
        "outputId": "a2e0b138-bd1d-4e8f-bf98-e910c7bfa9c6"
      },
      "source": [
        "import random\n",
        "\n",
        "random.choice(lista_qualquer)"
      ],
      "execution_count": 19,
      "outputs": [
        {
          "output_type": "execute_result",
          "data": {
            "application/vnd.google.colaboratory.intrinsic+json": {
              "type": "string"
            },
            "text/plain": [
              "'Maicon'"
            ]
          },
          "metadata": {},
          "execution_count": 19
        }
      ]
    },
    {
      "cell_type": "markdown",
      "metadata": {
        "id": "UzTuSI2Woeva"
      },
      "source": [
        "Observação: \n",
        "\n",
        "Não funcionará em uma coleção que não permite indexação."
      ]
    },
    {
      "cell_type": "markdown",
      "metadata": {
        "id": "O1lsuvVCoqGK"
      },
      "source": [
        "#**Truque 5**\n",
        "\n",
        "###  Criando Dicionários a partir de listas."
      ]
    },
    {
      "cell_type": "code",
      "metadata": {
        "id": "a-ieFH7eG9Ns"
      },
      "source": [
        "nomes_quaisquer = ['Margareth', 'Paulo', 'Pedro', 'Maicon', 'Jane']\n",
        "idades = [25, 22, 36, 18, 41]"
      ],
      "execution_count": 21,
      "outputs": []
    },
    {
      "cell_type": "code",
      "metadata": {
        "colab": {
          "base_uri": "https://localhost:8080/"
        },
        "id": "bP6hqjpUoulr",
        "outputId": "d73671a6-9c4a-4ae3-d588-dd79f2847c3e"
      },
      "source": [
        "# Forma 1\n",
        "# Utilizando a função zip\n",
        "dic_idades = dict(zip(nomes_quaisquer, idades))\n",
        "\n",
        "print(dic_idades)"
      ],
      "execution_count": 22,
      "outputs": [
        {
          "output_type": "stream",
          "name": "stdout",
          "text": [
            "{'Margareth': 25, 'Paulo': 22, 'Pedro': 36, 'Maicon': 18, 'Jane': 41}\n"
          ]
        }
      ]
    },
    {
      "cell_type": "code",
      "metadata": {
        "colab": {
          "base_uri": "https://localhost:8080/"
        },
        "id": "9biSA_YDpRcm",
        "outputId": "56263a3d-483a-44da-dbcf-865ca41da512"
      },
      "source": [
        "# Utilizando em uma list comprehension for combinado com zip\n",
        "dict([par for par in zip(nomes_quaisquer, idades)])"
      ],
      "execution_count": 23,
      "outputs": [
        {
          "output_type": "execute_result",
          "data": {
            "text/plain": [
              "{'Jane': 41, 'Maicon': 18, 'Margareth': 25, 'Paulo': 22, 'Pedro': 36}"
            ]
          },
          "metadata": {},
          "execution_count": 23
        }
      ]
    },
    {
      "cell_type": "code",
      "metadata": {
        "colab": {
          "base_uri": "https://localhost:8080/"
        },
        "id": "ZxyjuE5CAQdm",
        "outputId": "d8584cdc-b8f2-406f-afbc-4b9898330d83"
      },
      "source": [
        "# Simplificando ainda mais\n",
        "{k: v for (k, v) in zip(nomes_quaisquer, idades)}"
      ],
      "execution_count": 24,
      "outputs": [
        {
          "output_type": "execute_result",
          "data": {
            "text/plain": [
              "{'Jane': 41, 'Maicon': 18, 'Margareth': 25, 'Paulo': 22, 'Pedro': 36}"
            ]
          },
          "metadata": {},
          "execution_count": 24
        }
      ]
    }
  ]
}